{
 "cells": [
  {
   "cell_type": "code",
   "execution_count": 1,
   "metadata": {},
   "outputs": [
    {
     "name": "stdout",
     "output_type": "stream",
     "text": [
      "Stored 'df_complete' (DataFrame)\n",
      "Stored 'df_grouped_dates' (DataFrame)\n",
      "Stored 'series_grouped_dates' (Series)\n",
      "Stored 'pandas_dataframe_groupby_site' (DataFrameGroupBy)\n",
      "Stored 'sites_names' (list)\n"
     ]
    }
   ],
   "source": [
    "%run ./imports_models.py\n",
    "%run ./dataset_preparation_v2.ipynb\n",
    "%run -i ./utils.py"
   ]
  },
  {
   "cell_type": "code",
   "execution_count": 2,
   "metadata": {},
   "outputs": [],
   "source": [
    "PATH_SERIALIZER = './../serialized_files/'"
   ]
  },
  {
   "cell_type": "markdown",
   "metadata": {},
   "source": [
    "# Data per site"
   ]
  },
  {
   "cell_type": "code",
   "execution_count": 3,
   "metadata": {},
   "outputs": [],
   "source": [
    "%store -r df_grouped_dates\n",
    "%store -r series_grouped_dates\n",
    "%store -r pandas_dataframe_groupby_site\n",
    "%store -r sites_names"
   ]
  },
  {
   "cell_type": "markdown",
   "metadata": {},
   "source": [
    "### Select group"
   ]
  },
  {
   "cell_type": "code",
   "execution_count": 56,
   "metadata": {},
   "outputs": [
    {
     "name": "stdout",
     "output_type": "stream",
     "text": [
      "CB-EHE: CardAdminAt-PR-EX has been selected\n"
     ]
    }
   ],
   "source": [
    "site_index = 0\n",
    "print('%s has been selected'%sites_names[site_index])\n",
    "site_name = sites_names[site_index]\n",
    "\n",
    "site_df_complete_data = pandas_dataframe_groupby_site.get_group(site_name)\n",
    "site_df_grouped_dates = site_df_complete_data.groupby(['DATES'], as_index=False).sum()"
   ]
  },
  {
   "cell_type": "code",
   "execution_count": 57,
   "metadata": {},
   "outputs": [],
   "source": [
    "df_data = pd.DataFrame({'ds':site_df_grouped_dates['DATES'], \n",
    "                        'y':site_df_grouped_dates['OCCUPANCY_COUNT']})"
   ]
  },
  {
   "cell_type": "markdown",
   "metadata": {},
   "source": [
    "## Scaling data (optional)"
   ]
  },
  {
   "cell_type": "code",
   "execution_count": 58,
   "metadata": {},
   "outputs": [
    {
     "data": {
      "text/html": [
       "<div>\n",
       "<style scoped>\n",
       "    .dataframe tbody tr th:only-of-type {\n",
       "        vertical-align: middle;\n",
       "    }\n",
       "\n",
       "    .dataframe tbody tr th {\n",
       "        vertical-align: top;\n",
       "    }\n",
       "\n",
       "    .dataframe thead th {\n",
       "        text-align: right;\n",
       "    }\n",
       "</style>\n",
       "<table border=\"1\" class=\"dataframe\">\n",
       "  <thead>\n",
       "    <tr style=\"text-align: right;\">\n",
       "      <th></th>\n",
       "      <th>ds</th>\n",
       "      <th>y</th>\n",
       "    </tr>\n",
       "  </thead>\n",
       "  <tbody>\n",
       "    <tr>\n",
       "      <th>0</th>\n",
       "      <td>2018-01-01 01:00:00</td>\n",
       "      <td>0.000000</td>\n",
       "    </tr>\n",
       "    <tr>\n",
       "      <th>1</th>\n",
       "      <td>2018-01-01 02:00:00</td>\n",
       "      <td>0.000000</td>\n",
       "    </tr>\n",
       "    <tr>\n",
       "      <th>2</th>\n",
       "      <td>2018-01-01 03:00:00</td>\n",
       "      <td>0.000000</td>\n",
       "    </tr>\n",
       "    <tr>\n",
       "      <th>3</th>\n",
       "      <td>2018-01-01 04:00:00</td>\n",
       "      <td>0.047619</td>\n",
       "    </tr>\n",
       "    <tr>\n",
       "      <th>4</th>\n",
       "      <td>2018-01-01 05:00:00</td>\n",
       "      <td>0.000000</td>\n",
       "    </tr>\n",
       "    <tr>\n",
       "      <th>...</th>\n",
       "      <td>...</td>\n",
       "      <td>...</td>\n",
       "    </tr>\n",
       "    <tr>\n",
       "      <th>25203</th>\n",
       "      <td>2020-12-31 19:00:00</td>\n",
       "      <td>0.285714</td>\n",
       "    </tr>\n",
       "    <tr>\n",
       "      <th>25204</th>\n",
       "      <td>2020-12-31 20:00:00</td>\n",
       "      <td>0.285714</td>\n",
       "    </tr>\n",
       "    <tr>\n",
       "      <th>25205</th>\n",
       "      <td>2020-12-31 21:00:00</td>\n",
       "      <td>0.095238</td>\n",
       "    </tr>\n",
       "    <tr>\n",
       "      <th>25206</th>\n",
       "      <td>2020-12-31 22:00:00</td>\n",
       "      <td>0.095238</td>\n",
       "    </tr>\n",
       "    <tr>\n",
       "      <th>25207</th>\n",
       "      <td>2020-12-31 23:00:00</td>\n",
       "      <td>0.047619</td>\n",
       "    </tr>\n",
       "  </tbody>\n",
       "</table>\n",
       "<p>25208 rows × 2 columns</p>\n",
       "</div>"
      ],
      "text/plain": [
       "                        ds         y\n",
       "0      2018-01-01 01:00:00  0.000000\n",
       "1      2018-01-01 02:00:00  0.000000\n",
       "2      2018-01-01 03:00:00  0.000000\n",
       "3      2018-01-01 04:00:00  0.047619\n",
       "4      2018-01-01 05:00:00  0.000000\n",
       "...                    ...       ...\n",
       "25203  2020-12-31 19:00:00  0.285714\n",
       "25204  2020-12-31 20:00:00  0.285714\n",
       "25205  2020-12-31 21:00:00  0.095238\n",
       "25206  2020-12-31 22:00:00  0.095238\n",
       "25207  2020-12-31 23:00:00  0.047619\n",
       "\n",
       "[25208 rows x 2 columns]"
      ]
     },
     "execution_count": 58,
     "metadata": {},
     "output_type": "execute_result"
    }
   ],
   "source": [
    "occ_values_to_scale = site_df_grouped_dates['OCCUPANCY_COUNT'].values.reshape(-1,1)\n",
    "scaler = MinMaxScaler()\n",
    "scaler_fit = scaler.fit(occ_values_to_scale)\n",
    "\n",
    "df_data['y'] = scaler_fit.transform(occ_values_to_scale)\n",
    "df_data"
   ]
  },
  {
   "cell_type": "markdown",
   "metadata": {},
   "source": [
    "# Save scaler into serialized file"
   ]
  },
  {
   "cell_type": "code",
   "execution_count": null,
   "metadata": {},
   "outputs": [],
   "source": [
    "filename_scaler = ''\n",
    "pickle.dump(scaler_fit, open(PATH_SERIALIZER+filename_model,'wb'))"
   ]
  },
  {
   "cell_type": "markdown",
   "metadata": {},
   "source": [
    "# Split train and test"
   ]
  },
  {
   "cell_type": "code",
   "execution_count": 59,
   "metadata": {},
   "outputs": [],
   "source": [
    "df_data_train = df_data[:16791]\n",
    "df_data_test = df_data[16791:]"
   ]
  },
  {
   "cell_type": "markdown",
   "metadata": {},
   "source": [
    "# Hyperparameter tuning"
   ]
  },
  {
   "cell_type": "code",
   "execution_count": 60,
   "metadata": {},
   "outputs": [
    {
     "name": "stdout",
     "output_type": "stream",
     "text": [
      "Tuning...\n"
     ]
    },
    {
     "data": {
      "application/vnd.jupyter.widget-view+json": {
       "model_id": "d34e1a59259946b287dcebc2fc972906",
       "version_major": 2,
       "version_minor": 0
      },
      "text/plain": [
       "  0%|          | 0/9 [00:00<?, ?it/s]"
      ]
     },
     "metadata": {},
     "output_type": "display_data"
    },
    {
     "name": "stderr",
     "output_type": "stream",
     "text": [
      "WARNING:fbprophet:Seasonality has period of 365.25 days which is larger than initial window. Consider increasing initial.\n",
      "INFO:fbprophet:Applying in parallel with <concurrent.futures.process.ProcessPoolExecutor object at 0x0000016394C98248>\n",
      "INFO:fbprophet:Skipping MAPE because y close to 0\n",
      "WARNING:fbprophet:Seasonality has period of 365.25 days which is larger than initial window. Consider increasing initial.\n",
      "INFO:fbprophet:Applying in parallel with <concurrent.futures.process.ProcessPoolExecutor object at 0x0000016394C70C88>\n",
      "INFO:fbprophet:Skipping MAPE because y close to 0\n",
      "WARNING:fbprophet:Seasonality has period of 365.25 days which is larger than initial window. Consider increasing initial.\n",
      "INFO:fbprophet:Applying in parallel with <concurrent.futures.process.ProcessPoolExecutor object at 0x0000016394C7BAC8>\n",
      "INFO:fbprophet:Skipping MAPE because y close to 0\n",
      "WARNING:fbprophet:Seasonality has period of 365.25 days which is larger than initial window. Consider increasing initial.\n",
      "INFO:fbprophet:Applying in parallel with <concurrent.futures.process.ProcessPoolExecutor object at 0x0000016394C74F48>\n",
      "INFO:fbprophet:Skipping MAPE because y close to 0\n",
      "WARNING:fbprophet:Seasonality has period of 365.25 days which is larger than initial window. Consider increasing initial.\n",
      "INFO:fbprophet:Applying in parallel with <concurrent.futures.process.ProcessPoolExecutor object at 0x000001639820B088>\n",
      "INFO:fbprophet:Skipping MAPE because y close to 0\n",
      "WARNING:fbprophet:Seasonality has period of 365.25 days which is larger than initial window. Consider increasing initial.\n",
      "INFO:fbprophet:Applying in parallel with <concurrent.futures.process.ProcessPoolExecutor object at 0x00000163981FDD08>\n",
      "INFO:fbprophet:Skipping MAPE because y close to 0\n",
      "WARNING:fbprophet:Seasonality has period of 365.25 days which is larger than initial window. Consider increasing initial.\n",
      "INFO:fbprophet:Applying in parallel with <concurrent.futures.process.ProcessPoolExecutor object at 0x0000016398208988>\n",
      "INFO:fbprophet:Skipping MAPE because y close to 0\n",
      "WARNING:fbprophet:Seasonality has period of 365.25 days which is larger than initial window. Consider increasing initial.\n",
      "INFO:fbprophet:Applying in parallel with <concurrent.futures.process.ProcessPoolExecutor object at 0x0000016396733DC8>\n",
      "INFO:fbprophet:Skipping MAPE because y close to 0\n",
      "WARNING:fbprophet:Seasonality has period of 365.25 days which is larger than initial window. Consider increasing initial.\n",
      "INFO:fbprophet:Applying in parallel with <concurrent.futures.process.ProcessPoolExecutor object at 0x00000163981D3048>\n",
      "INFO:fbprophet:Skipping MAPE because y close to 0\n"
     ]
    },
    {
     "name": "stdout",
     "output_type": "stream",
     "text": [
      "--- Tuning ended at 350.3074400424957 seconds ---\n"
     ]
    }
   ],
   "source": [
    "print('Tuning...')\n",
    "start_time_tuning = time.time()\n",
    "cutoffs = pd.to_datetime(['2018-12-31', '2019-05-30', '2019-09-30'])\n",
    "param_grid = {\n",
    "    'changepoint_prior_scale': [0.001, 0.01, 0.1],\n",
    "    'seasonality_prior_scale': [0.01, 0.1, 1.0]\n",
    "}\n",
    "\n",
    "all_params = [dict(zip(param_grid.keys(), v)) for v in itertools.product(*param_grid.values())]\n",
    "rmses = []\n",
    "\n",
    "for params in tqdm(all_params):\n",
    "    p = Prophet(**params\n",
    "                ).add_seasonality(name='monthly', \n",
    "                                  period=30.5, \n",
    "                                  fourier_order=5, \n",
    "                                  prior_scale=0.02\n",
    "                                  ).fit(df_data_train)\n",
    "    df_cv = cross_validation(p, cutoffs=cutoffs, horizon='30 days', parallel=\"processes\")\n",
    "    df_p = performance_metrics(df_cv, rolling_window=1)\n",
    "    rmses.append(df_p['rmse'].values[0])\n",
    "\n",
    "tuning_results = pd.DataFrame(all_params)\n",
    "tuning_results['rmse'] = rmses\n",
    "print(\"--- Tuning ended at %s seconds ---\" % (time.time() - start_time_tuning))"
   ]
  },
  {
   "cell_type": "code",
   "execution_count": 61,
   "metadata": {},
   "outputs": [
    {
     "data": {
      "text/html": [
       "<div>\n",
       "<style scoped>\n",
       "    .dataframe tbody tr th:only-of-type {\n",
       "        vertical-align: middle;\n",
       "    }\n",
       "\n",
       "    .dataframe tbody tr th {\n",
       "        vertical-align: top;\n",
       "    }\n",
       "\n",
       "    .dataframe thead th {\n",
       "        text-align: right;\n",
       "    }\n",
       "</style>\n",
       "<table border=\"1\" class=\"dataframe\">\n",
       "  <thead>\n",
       "    <tr style=\"text-align: right;\">\n",
       "      <th></th>\n",
       "      <th>changepoint_prior_scale</th>\n",
       "      <th>seasonality_prior_scale</th>\n",
       "      <th>rmse</th>\n",
       "    </tr>\n",
       "  </thead>\n",
       "  <tbody>\n",
       "    <tr>\n",
       "      <th>0</th>\n",
       "      <td>0.001</td>\n",
       "      <td>0.01</td>\n",
       "      <td>0.101050</td>\n",
       "    </tr>\n",
       "    <tr>\n",
       "      <th>1</th>\n",
       "      <td>0.001</td>\n",
       "      <td>0.10</td>\n",
       "      <td>0.101622</td>\n",
       "    </tr>\n",
       "    <tr>\n",
       "      <th>2</th>\n",
       "      <td>0.001</td>\n",
       "      <td>1.00</td>\n",
       "      <td>0.101599</td>\n",
       "    </tr>\n",
       "    <tr>\n",
       "      <th>3</th>\n",
       "      <td>0.010</td>\n",
       "      <td>0.01</td>\n",
       "      <td>0.096893</td>\n",
       "    </tr>\n",
       "    <tr>\n",
       "      <th>4</th>\n",
       "      <td>0.010</td>\n",
       "      <td>0.10</td>\n",
       "      <td>0.097169</td>\n",
       "    </tr>\n",
       "    <tr>\n",
       "      <th>5</th>\n",
       "      <td>0.010</td>\n",
       "      <td>1.00</td>\n",
       "      <td>0.097218</td>\n",
       "    </tr>\n",
       "    <tr>\n",
       "      <th>6</th>\n",
       "      <td>0.100</td>\n",
       "      <td>0.01</td>\n",
       "      <td>0.096350</td>\n",
       "    </tr>\n",
       "    <tr>\n",
       "      <th>7</th>\n",
       "      <td>0.100</td>\n",
       "      <td>0.10</td>\n",
       "      <td>0.096677</td>\n",
       "    </tr>\n",
       "    <tr>\n",
       "      <th>8</th>\n",
       "      <td>0.100</td>\n",
       "      <td>1.00</td>\n",
       "      <td>0.096694</td>\n",
       "    </tr>\n",
       "  </tbody>\n",
       "</table>\n",
       "</div>"
      ],
      "text/plain": [
       "   changepoint_prior_scale  seasonality_prior_scale      rmse\n",
       "0                    0.001                     0.01  0.101050\n",
       "1                    0.001                     0.10  0.101622\n",
       "2                    0.001                     1.00  0.101599\n",
       "3                    0.010                     0.01  0.096893\n",
       "4                    0.010                     0.10  0.097169\n",
       "5                    0.010                     1.00  0.097218\n",
       "6                    0.100                     0.01  0.096350\n",
       "7                    0.100                     0.10  0.096677\n",
       "8                    0.100                     1.00  0.096694"
      ]
     },
     "execution_count": 61,
     "metadata": {},
     "output_type": "execute_result"
    }
   ],
   "source": [
    "tuning_results"
   ]
  },
  {
   "cell_type": "code",
   "execution_count": 62,
   "metadata": {},
   "outputs": [
    {
     "data": {
      "text/html": [
       "<div>\n",
       "<style scoped>\n",
       "    .dataframe tbody tr th:only-of-type {\n",
       "        vertical-align: middle;\n",
       "    }\n",
       "\n",
       "    .dataframe tbody tr th {\n",
       "        vertical-align: top;\n",
       "    }\n",
       "\n",
       "    .dataframe thead th {\n",
       "        text-align: right;\n",
       "    }\n",
       "</style>\n",
       "<table border=\"1\" class=\"dataframe\">\n",
       "  <thead>\n",
       "    <tr style=\"text-align: right;\">\n",
       "      <th></th>\n",
       "      <th>changepoint_prior_scale</th>\n",
       "      <th>seasonality_prior_scale</th>\n",
       "      <th>rmse</th>\n",
       "    </tr>\n",
       "  </thead>\n",
       "  <tbody>\n",
       "    <tr>\n",
       "      <th>6</th>\n",
       "      <td>0.1</td>\n",
       "      <td>0.01</td>\n",
       "      <td>0.09635</td>\n",
       "    </tr>\n",
       "  </tbody>\n",
       "</table>\n",
       "</div>"
      ],
      "text/plain": [
       "   changepoint_prior_scale  seasonality_prior_scale     rmse\n",
       "6                      0.1                     0.01  0.09635"
      ]
     },
     "execution_count": 62,
     "metadata": {},
     "output_type": "execute_result"
    }
   ],
   "source": [
    "best_parameters = tuning_results[tuning_results['rmse'] == tuning_results['rmse'].min()]\n",
    "site_seasonality_prior_scale = best_parameters['seasonality_prior_scale']\n",
    "site_changepoint_prior_scale = best_parameters['changepoint_prior_scale']\n",
    "\n",
    "best_parameters"
   ]
  },
  {
   "cell_type": "markdown",
   "metadata": {},
   "source": [
    "### Save hyperparameter tuning into serialized file"
   ]
  },
  {
   "cell_type": "code",
   "execution_count": 63,
   "metadata": {},
   "outputs": [
    {
     "ename": "PermissionError",
     "evalue": "[Errno 13] Permission denied: './../serialized_files/'",
     "output_type": "error",
     "traceback": [
      "\u001b[1;31m---------------------------------------------------------------------------\u001b[0m",
      "\u001b[1;31mPermissionError\u001b[0m                           Traceback (most recent call last)",
      "\u001b[1;32m~\\OneDrive\\Documents\\TRABAJO\\DianaMosquera\\Occupancy_Forecasting\\Data_scripts_V2\\notebooks\\utils.py\u001b[0m in \u001b[0;36m<module>\u001b[1;34m\u001b[0m\n\u001b[0;32m      1\u001b[0m \u001b[0mfilename_hyperparameter\u001b[0m \u001b[1;33m=\u001b[0m \u001b[1;34m''\u001b[0m\u001b[1;33m\u001b[0m\u001b[1;33m\u001b[0m\u001b[0m\n\u001b[1;32m----> 2\u001b[1;33m \u001b[0mpickle\u001b[0m\u001b[1;33m.\u001b[0m\u001b[0mdump\u001b[0m\u001b[1;33m(\u001b[0m\u001b[0mtuning_results\u001b[0m\u001b[1;33m,\u001b[0m \u001b[0mopen\u001b[0m\u001b[1;33m(\u001b[0m\u001b[0mPATH_SERIALIZER\u001b[0m\u001b[1;33m+\u001b[0m\u001b[0mfilename_hyperparameter\u001b[0m\u001b[1;33m,\u001b[0m\u001b[1;34m'wb'\u001b[0m\u001b[1;33m)\u001b[0m\u001b[1;33m)\u001b[0m\u001b[1;33m\u001b[0m\u001b[1;33m\u001b[0m\u001b[0m\n\u001b[0m",
      "\u001b[1;31mPermissionError\u001b[0m: [Errno 13] Permission denied: './../serialized_files/'"
     ]
    }
   ],
   "source": [
    "filename_hyperparameter = ''\n",
    "pickle.dump(tuning_results, open(PATH_SERIALIZER+filename_hyperparameter,'wb'))"
   ]
  },
  {
   "cell_type": "markdown",
   "metadata": {},
   "source": [
    "# Instantiate model"
   ]
  },
  {
   "cell_type": "code",
   "execution_count": null,
   "metadata": {},
   "outputs": [],
   "source": [
    "print('Training...')\n",
    "start_time_training = time.time()\n",
    "prophet_instance = Prophet(yearly_seasonality=True, \n",
    "                           weekly_seasonality=True,\n",
    "                           seasonality_prior_scale=site_seasonality_prior_scale,\n",
    "                           changepoint_prior_scale=site_changepoint_prior_scale,\n",
    "                           interval_width=0.95)\n",
    "prophet_instance.add_seasonality(name='monthly', \n",
    "                                 period=30.5, \n",
    "                                 fourier_order=5, \n",
    "                                 prior_scale=0.02)\n",
    "\n",
    "prophet_instance.fit(df_data_train)\n",
    "print(\"--- Training ended at %s seconds ---\" % (time.time() - start_time_training))"
   ]
  },
  {
   "cell_type": "markdown",
   "metadata": {},
   "source": [
    "# Cross validation"
   ]
  },
  {
   "cell_type": "code",
   "execution_count": null,
   "metadata": {},
   "outputs": [],
   "source": [
    "cross_validation_results = cross_validation(prophet_instance, \n",
    "                                            initial='12000 hours', \n",
    "                                            period='3600 hours',\n",
    "                                            horizon='168 hours')\n",
    "cross_validation_results"
   ]
  },
  {
   "cell_type": "code",
   "execution_count": null,
   "metadata": {
    "scrolled": false
   },
   "outputs": [],
   "source": [
    "cross_validation_results_no_negative = replace_negative_values_with_ceros(cross_validation_results.copy())\n",
    "performance_overall_metrics = performance_metrics(cross_validation_results_no_negative)\n",
    "mse_mean_training = np.mean(performance_overall_metrics['mse'])\n",
    "rmse_mean_training = np.mean(performance_overall_metrics['rmse'])\n",
    "mae_mean_training = np.mean(performance_overall_metrics['mae'])"
   ]
  },
  {
   "cell_type": "code",
   "execution_count": null,
   "metadata": {},
   "outputs": [],
   "source": [
    "training_performace_df = pd.DataFrame({'mse_training':mse_mean_training, \n",
    "                                       'rmsetraining':rmse_mean_training, \n",
    "                                       'mae_training':mae_mean_training},\n",
    "                                     index=[0])\n",
    "training_performace_df"
   ]
  },
  {
   "cell_type": "code",
   "execution_count": null,
   "metadata": {},
   "outputs": [],
   "source": [
    "fig_mae_training = plot_cross_validation_metric(cross_validation_results, metric='mae')"
   ]
  },
  {
   "cell_type": "markdown",
   "metadata": {},
   "source": [
    "# Forecast"
   ]
  },
  {
   "cell_type": "code",
   "execution_count": null,
   "metadata": {},
   "outputs": [],
   "source": [
    "print('Forecasting...')\n",
    "start_time_forecast = time.time()\n",
    "forecast = prophet_instance.predict(df_data_test)\n",
    "print(\"--- Forecasting ended at %s seconds ---\" % (time.time() - start_time_forecast))\n",
    "forecast[['ds', 'yhat', 'yhat_lower', 'yhat_upper']].head()"
   ]
  },
  {
   "cell_type": "code",
   "execution_count": null,
   "metadata": {},
   "outputs": [],
   "source": [
    "forecast_no_negative = forecast.copy()\n",
    "forecast_no_negative['yhat'] = replace_negative_values_with_ceros(forecast.copy(), forecast_df=True)\n",
    "forecast_no_negative[['ds', 'yhat', 'yhat_lower', 'yhat_upper']]"
   ]
  },
  {
   "cell_type": "markdown",
   "metadata": {},
   "source": [
    "# Forecast performance"
   ]
  },
  {
   "cell_type": "code",
   "execution_count": null,
   "metadata": {},
   "outputs": [],
   "source": [
    "y_true = df_data_test['y']\n",
    "y_pred = forecast_no_negative['yhat']\n",
    "metrics_evaluation_forecast = get_performance_metrics_forecast(y_true, y_pred)\n",
    "mse_forecast = metrics_evaluation_forecast[0]\n",
    "rmse_forecast = metrics_evaluation_forecast[1]\n",
    "mae_forecast = metrics_evaluation_forecast[2]\n",
    "maape_forecast = metrics_evaluation_forecast[3]"
   ]
  },
  {
   "cell_type": "code",
   "execution_count": null,
   "metadata": {},
   "outputs": [],
   "source": [
    "forecast_performace_df = pd.DataFrame({'mse_forecast':mse_forecast, \n",
    "                                       'rmse_forecast':rmse_forecast, \n",
    "                                       'mae_forecast':mae_forecast,\n",
    "                                       'maape_forecast':maape_forecast},\n",
    "                                     index=[0])\n",
    "forecast_performace_df"
   ]
  },
  {
   "cell_type": "markdown",
   "metadata": {},
   "source": [
    "# Save model into serialized file"
   ]
  },
  {
   "cell_type": "code",
   "execution_count": null,
   "metadata": {},
   "outputs": [],
   "source": [
    "filename_model = ''\n",
    "# pickle.dump([prophet_instance, forecast, cross_validation_results, performance_overall_metrics], \n",
    "#             open(PATH_SERIALIZER+filename_model,'wb'))"
   ]
  },
  {
   "cell_type": "markdown",
   "metadata": {},
   "source": [
    "# Visualizating"
   ]
  },
  {
   "cell_type": "code",
   "execution_count": null,
   "metadata": {},
   "outputs": [],
   "source": [
    "fig_forecast = prophet_instance.plot(forecast_no_negative, xlabel='date')\n",
    "a = add_changepoints_to_plot(fig_forecast.gca(), prophet_instance, forecast_no_negative)"
   ]
  },
  {
   "cell_type": "code",
   "execution_count": null,
   "metadata": {},
   "outputs": [],
   "source": [
    "fig_forecast_components = prophet_instance.plot_components(forecast)"
   ]
  },
  {
   "cell_type": "markdown",
   "metadata": {},
   "source": [
    "# Plot by year"
   ]
  },
  {
   "cell_type": "code",
   "execution_count": null,
   "metadata": {},
   "outputs": [],
   "source": [
    "y_pred_df = forecast_no_negative[['ds','yhat']]\n",
    "y_pred_df.index = series_grouped_dates[16791:].index\n",
    "y_true_df = df_data_test.copy()\n",
    "y_true_df['ds'] = pd.to_datetime(y_true_df['ds'])\n",
    "y_true_df.index = series_grouped_dates[16791:].index"
   ]
  },
  {
   "cell_type": "code",
   "execution_count": null,
   "metadata": {},
   "outputs": [],
   "source": [
    "init_date = '2020-01-01'\n",
    "end_date = '2020-12-31'\n",
    "ax_2020=y_pred_df[init_date:end_date].plot(x='ds',y='yhat',legend=True,label='y_pred',figsize=(20,8))\n",
    "y_true_df[init_date:end_date].plot(x='ds',y='y',legend=True,label='y',ax=ax_2020)\n",
    "plt.title('Year 2020')"
   ]
  },
  {
   "cell_type": "markdown",
   "metadata": {},
   "source": [
    "# Plots by month"
   ]
  },
  {
   "cell_type": "code",
   "execution_count": null,
   "metadata": {},
   "outputs": [],
   "source": [
    "init_date = '2020-01-01'\n",
    "end_date = '2020-01-31'\n",
    "ax_jan=y_pred_df[init_date:end_date].plot(x='ds',y='yhat',legend=True,label='y_pred',figsize=(20,8))\n",
    "y_true_df[init_date:end_date].plot(x='ds',y='y',legend=True,label='y',ax=ax_jan)\n",
    "plt.title('January\\n %s to %s'%(init_date, end_date))"
   ]
  },
  {
   "cell_type": "code",
   "execution_count": null,
   "metadata": {},
   "outputs": [],
   "source": [
    "init_date = '2020-05-01'\n",
    "end_date = '2020-05-31'\n",
    "ax_aug=y_pred_df[init_date:end_date].plot(x='ds',y='yhat',legend=True,label='y_pred',figsize=(20,8))\n",
    "y_true_df[init_date:end_date].plot(x='ds',y='y',legend=True,label='y',ax=ax_aug)\n",
    "plt.title('May\\n %s to %s'%(init_date, end_date))"
   ]
  },
  {
   "cell_type": "code",
   "execution_count": null,
   "metadata": {},
   "outputs": [],
   "source": [
    "init_date = '2020-07-01'\n",
    "end_date = '2020-07-31'\n",
    "ax_aug=y_pred_df[init_date:end_date].plot(x='ds',y='yhat',legend=True,label='y_pred',figsize=(20,8))\n",
    "y_true_df[init_date:end_date].plot(x='ds',y='y',legend=True,label='y',ax=ax_aug)\n",
    "plt.title('July\\n %s to %s'%(init_date, end_date))"
   ]
  },
  {
   "cell_type": "markdown",
   "metadata": {},
   "source": [
    "# Plots per week"
   ]
  },
  {
   "cell_type": "code",
   "execution_count": null,
   "metadata": {},
   "outputs": [],
   "source": [
    "init_date = '2020-05-04'\n",
    "end_date = '2020-05-11'\n",
    "ax_aug=y_pred_df[init_date:end_date].plot(x='ds',y='yhat',legend=True,label='y_pred',figsize=(20,8))\n",
    "y_true_df[init_date:end_date].plot(x='ds',y='y',legend=True,label='y',ax=ax_aug)\n",
    "plt.title('May\\n %s to %s'%(init_date, end_date))"
   ]
  },
  {
   "cell_type": "code",
   "execution_count": null,
   "metadata": {},
   "outputs": [],
   "source": [
    "init_date = '2020-05-18'\n",
    "end_date = '2020-05-25'\n",
    "ax_aug=y_pred_df[init_date:end_date].plot(x='ds',y='yhat',legend=True,label='y_pred',figsize=(20,8))\n",
    "y_true_df[init_date:end_date].plot(x='ds',y='y',legend=True,label='y',ax=ax_aug)\n",
    "plt.title('May\\n %s to %s'%(init_date, end_date))"
   ]
  },
  {
   "cell_type": "markdown",
   "metadata": {},
   "source": [
    "# Plots per day"
   ]
  },
  {
   "cell_type": "code",
   "execution_count": null,
   "metadata": {},
   "outputs": [],
   "source": [
    "init_date = '2020-05-04 01:00:00'\n",
    "end_date = '2020-05-04 23:00:00'\n",
    "ax_aug=y_pred_df[init_date:end_date].plot(x='ds',y='yhat',legend=True,label='y_pred',figsize=(20,8))\n",
    "y_true_df[init_date:end_date].plot(x='ds',y='y',legend=True,label='y',ax=ax_aug)\n",
    "plt.title('May: monday\\n %s to %s'%(init_date, end_date))"
   ]
  },
  {
   "cell_type": "code",
   "execution_count": null,
   "metadata": {},
   "outputs": [],
   "source": [
    "init_date = '2020-05-05 01:00:00'\n",
    "end_date = '2020-05-05 23:00:00'\n",
    "ax_aug=y_pred_df[init_date:end_date].plot(x='ds',y='yhat',legend=True,label='y_pred',figsize=(20,8))\n",
    "y_true_df[init_date:end_date].plot(x='ds',y='y',legend=True,label='y',ax=ax_aug)\n",
    "plt.title('May: tuesday\\n %s to %s'%(init_date, end_date))"
   ]
  },
  {
   "cell_type": "code",
   "execution_count": null,
   "metadata": {},
   "outputs": [],
   "source": [
    "init_date = '2020-05-06 01:00:00'\n",
    "end_date = '2020-05-06 23:00:00'\n",
    "ax_aug=y_pred_df[init_date:end_date].plot(x='ds',y='yhat',legend=True,label='y_pred',figsize=(20,8))\n",
    "y_true_df[init_date:end_date].plot(x='ds',y='y',legend=True,label='y',ax=ax_aug)\n",
    "plt.title('May: wednesday\\n %s to %s'%(init_date, end_date))"
   ]
  },
  {
   "cell_type": "code",
   "execution_count": null,
   "metadata": {},
   "outputs": [],
   "source": [
    "init_date = '2020-05-07 01:00:00'\n",
    "end_date = '2020-05-07 23:00:00'\n",
    "ax_aug=y_pred_df[init_date:end_date].plot(x='ds',y='yhat',legend=True,label='y_pred',figsize=(20,8))\n",
    "y_true_df[init_date:end_date].plot(x='ds',y='y',legend=True,label='y',ax=ax_aug)\n",
    "plt.title('May: thursday\\n %s to %s'%(init_date, end_date))"
   ]
  },
  {
   "cell_type": "code",
   "execution_count": null,
   "metadata": {},
   "outputs": [],
   "source": [
    "init_date = '2020-05-08 01:00:00'\n",
    "end_date = '2020-05-08 23:00:00'\n",
    "ax_aug=y_pred_df[init_date:end_date].plot(x='ds',y='yhat',legend=True,label='y_pred',figsize=(20,8))\n",
    "y_true_df[init_date:end_date].plot(x='ds',y='y',legend=True,label='y',ax=ax_aug)\n",
    "plt.title('May: friday\\n %s to %s'%(init_date, end_date))"
   ]
  },
  {
   "cell_type": "code",
   "execution_count": null,
   "metadata": {},
   "outputs": [],
   "source": [
    "init_date = '2020-05-09 01:00:00'\n",
    "end_date = '2020-05-09 23:00:00'\n",
    "ax_aug=y_pred_df[init_date:end_date].plot(x='ds',y='yhat',legend=True,label='y_pred',figsize=(20,8))\n",
    "y_true_df[init_date:end_date].plot(x='ds',y='y',legend=True,label='y',ax=ax_aug)\n",
    "plt.title('May: saturday\\n %s to %s'%(init_date, end_date))"
   ]
  },
  {
   "cell_type": "code",
   "execution_count": null,
   "metadata": {},
   "outputs": [],
   "source": [
    "init_date = '2020-05-10 01:00:00'\n",
    "end_date = '2020-05-10 23:00:00'\n",
    "ax_aug=y_pred_df[init_date:end_date].plot(x='ds',y='yhat',legend=True,label='y_pred',figsize=(20,8))\n",
    "y_true_df[init_date:end_date].plot(x='ds',y='y',legend=True,label='y',ax=ax_aug)\n",
    "plt.title('May: sunday\\n %s to %s'%(init_date, end_date))"
   ]
  }
 ],
 "metadata": {
  "kernelspec": {
   "display_name": "Python 3",
   "language": "python",
   "name": "python3"
  },
  "language_info": {
   "codemirror_mode": {
    "name": "ipython",
    "version": 3
   },
   "file_extension": ".py",
   "mimetype": "text/x-python",
   "name": "python",
   "nbconvert_exporter": "python",
   "pygments_lexer": "ipython3",
   "version": "3.7.9"
  }
 },
 "nbformat": 4,
 "nbformat_minor": 2
}
