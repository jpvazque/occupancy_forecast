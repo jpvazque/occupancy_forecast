{
 "cells": [
  {
   "cell_type": "code",
   "execution_count": 18,
   "id": "possible-steering",
   "metadata": {},
   "outputs": [],
   "source": [
    "import pandas as pd\n",
    "from datetime import datetime"
   ]
  },
  {
   "cell_type": "markdown",
   "id": "connected-royalty",
   "metadata": {},
   "source": [
    "# Dataframe with complete raw data"
   ]
  },
  {
   "cell_type": "code",
   "execution_count": 40,
   "id": "printable-arkansas",
   "metadata": {},
   "outputs": [
    {
     "data": {
      "text/html": [
       "<div>\n",
       "<style scoped>\n",
       "    .dataframe tbody tr th:only-of-type {\n",
       "        vertical-align: middle;\n",
       "    }\n",
       "\n",
       "    .dataframe tbody tr th {\n",
       "        vertical-align: top;\n",
       "    }\n",
       "\n",
       "    .dataframe thead th {\n",
       "        text-align: right;\n",
       "    }\n",
       "</style>\n",
       "<table border=\"1\" class=\"dataframe\">\n",
       "  <thead>\n",
       "    <tr style=\"text-align: right;\">\n",
       "      <th></th>\n",
       "      <th>SITE</th>\n",
       "      <th>DATES</th>\n",
       "      <th>OCCUPANCY_COUNT</th>\n",
       "    </tr>\n",
       "  </thead>\n",
       "  <tbody>\n",
       "    <tr>\n",
       "      <th>0</th>\n",
       "      <td>Am Fin. Transformation</td>\n",
       "      <td>8/31/2020</td>\n",
       "      <td>0</td>\n",
       "    </tr>\n",
       "    <tr>\n",
       "      <th>1</th>\n",
       "      <td>Americas Finance</td>\n",
       "      <td>8/31/2020</td>\n",
       "      <td>0</td>\n",
       "    </tr>\n",
       "    <tr>\n",
       "      <th>2</th>\n",
       "      <td>Capital Markets</td>\n",
       "      <td>8/31/2020</td>\n",
       "      <td>2</td>\n",
       "    </tr>\n",
       "    <tr>\n",
       "      <th>3</th>\n",
       "      <td>CS</td>\n",
       "      <td>8/31/2020</td>\n",
       "      <td>0</td>\n",
       "    </tr>\n",
       "    <tr>\n",
       "      <th>4</th>\n",
       "      <td>CS Finance-43</td>\n",
       "      <td>8/31/2020</td>\n",
       "      <td>0</td>\n",
       "    </tr>\n",
       "    <tr>\n",
       "      <th>...</th>\n",
       "      <td>...</td>\n",
       "      <td>...</td>\n",
       "      <td>...</td>\n",
       "    </tr>\n",
       "    <tr>\n",
       "      <th>4270</th>\n",
       "      <td>Property Mgmt Office-46</td>\n",
       "      <td>12/11/2020</td>\n",
       "      <td>0</td>\n",
       "    </tr>\n",
       "    <tr>\n",
       "      <th>4271</th>\n",
       "      <td>Research</td>\n",
       "      <td>12/11/2020</td>\n",
       "      <td>0</td>\n",
       "    </tr>\n",
       "    <tr>\n",
       "      <th>4272</th>\n",
       "      <td>Risk</td>\n",
       "      <td>12/11/2020</td>\n",
       "      <td>0</td>\n",
       "    </tr>\n",
       "    <tr>\n",
       "      <th>4273</th>\n",
       "      <td>TDIM</td>\n",
       "      <td>12/11/2020</td>\n",
       "      <td>0</td>\n",
       "    </tr>\n",
       "    <tr>\n",
       "      <th>4274</th>\n",
       "      <td>Visitor</td>\n",
       "      <td>12/11/2020</td>\n",
       "      <td>1</td>\n",
       "    </tr>\n",
       "  </tbody>\n",
       "</table>\n",
       "<p>4275 rows × 3 columns</p>\n",
       "</div>"
      ],
      "text/plain": [
       "                         SITE       DATES  OCCUPANCY_COUNT\n",
       "0      Am Fin. Transformation   8/31/2020                0\n",
       "1            Americas Finance   8/31/2020                0\n",
       "2             Capital Markets   8/31/2020                2\n",
       "3                          CS   8/31/2020                0\n",
       "4               CS Finance-43   8/31/2020                0\n",
       "...                       ...         ...              ...\n",
       "4270  Property Mgmt Office-46  12/11/2020                0\n",
       "4271                 Research  12/11/2020                0\n",
       "4272                     Risk  12/11/2020                0\n",
       "4273                     TDIM  12/11/2020                0\n",
       "4274                  Visitor  12/11/2020                1\n",
       "\n",
       "[4275 rows x 3 columns]"
      ]
     },
     "execution_count": 40,
     "metadata": {},
     "output_type": "execute_result"
    }
   ],
   "source": [
    "df_complete = pd.read_csv('./../BDForecasting_V2/BaseVertical_V4.csv')\n",
    "df_complete = df_complete[['SITE','DATES','OCCUPANCY_COUNT']]\n",
    "# df_complete.columns = ['SITE','OCCUPANCY_COUNT','DATES']\n",
    "df_complete"
   ]
  },
  {
   "cell_type": "markdown",
   "id": "casual-working",
   "metadata": {},
   "source": [
    "# Dataframe grouped by dates (sum)"
   ]
  },
  {
   "cell_type": "code",
   "execution_count": 41,
   "id": "spectacular-vinyl",
   "metadata": {},
   "outputs": [],
   "source": [
    "df_grouped_dates = df_complete.groupby(['DATES'], as_index=False).sum()"
   ]
  },
  {
   "cell_type": "code",
   "execution_count": 42,
   "id": "creative-liberty",
   "metadata": {},
   "outputs": [],
   "source": [
    "# df_grouped_dates.to_csv('./../BDForecasting_V2/AON_1B_vertical_grouped_dates.csv', index=False)"
   ]
  },
  {
   "cell_type": "markdown",
   "id": "conscious-buying",
   "metadata": {},
   "source": [
    "# Series grouped by dates (sum)"
   ]
  },
  {
   "cell_type": "code",
   "execution_count": 43,
   "id": "pharmaceutical-flesh",
   "metadata": {},
   "outputs": [],
   "source": [
    "format_hour = '%Y-%m-%d %H:%M:%S'\n",
    "format_day = '%Y-%m-%d'\n",
    "format_day_aon = '%m/%d/%Y'"
   ]
  },
  {
   "cell_type": "code",
   "execution_count": 1,
   "id": "guided-battlefield",
   "metadata": {},
   "outputs": [
    {
     "ename": "NameError",
     "evalue": "name 'pd' is not defined",
     "output_type": "error",
     "traceback": [
      "\u001b[1;31m---------------------------------------------------------------------------\u001b[0m",
      "\u001b[1;31mNameError\u001b[0m                                 Traceback (most recent call last)",
      "\u001b[1;32m<ipython-input-1-b4c99a7eeabf>\u001b[0m in \u001b[0;36m<module>\u001b[1;34m\u001b[0m\n\u001b[0;32m      1\u001b[0m \u001b[1;32mdef\u001b[0m \u001b[0mparser\u001b[0m\u001b[1;33m(\u001b[0m\u001b[0mx\u001b[0m\u001b[1;33m)\u001b[0m\u001b[1;33m:\u001b[0m\u001b[1;33m\u001b[0m\u001b[1;33m\u001b[0m\u001b[0m\n\u001b[0;32m      2\u001b[0m     \u001b[1;32mreturn\u001b[0m \u001b[0mdatetime\u001b[0m\u001b[1;33m.\u001b[0m\u001b[0mstrptime\u001b[0m\u001b[1;33m(\u001b[0m\u001b[0mstr\u001b[0m\u001b[1;33m(\u001b[0m\u001b[0mx\u001b[0m\u001b[1;33m)\u001b[0m\u001b[1;33m,\u001b[0m \u001b[0mformat_day_aon\u001b[0m\u001b[1;33m)\u001b[0m\u001b[1;33m\u001b[0m\u001b[1;33m\u001b[0m\u001b[0m\n\u001b[1;32m----> 3\u001b[1;33m series_grouped_dates = pd.read_csv('./../BDForecasting_V2/boa_vertical_grouped_dates.csv', \n\u001b[0m\u001b[0;32m      4\u001b[0m                   \u001b[0mheader\u001b[0m\u001b[1;33m=\u001b[0m\u001b[1;36m0\u001b[0m\u001b[1;33m,\u001b[0m\u001b[1;33m\u001b[0m\u001b[1;33m\u001b[0m\u001b[0m\n\u001b[0;32m      5\u001b[0m                   \u001b[0mindex_col\u001b[0m\u001b[1;33m=\u001b[0m\u001b[1;36m0\u001b[0m\u001b[1;33m,\u001b[0m\u001b[1;33m\u001b[0m\u001b[1;33m\u001b[0m\u001b[0m\n",
      "\u001b[1;31mNameError\u001b[0m: name 'pd' is not defined"
     ]
    }
   ],
   "source": [
    "def parser(x):\n",
    "    return datetime.strptime(str(x), format_hour)\n",
    "series_grouped_dates = pd.read_csv('./../BDForecasting_V2/grouped_dates_BaseVertical.csv', \n",
    "                  header=0, \n",
    "                  index_col=0, \n",
    "                  parse_dates=True, \n",
    "                  squeeze=True, \n",
    "                  date_parser=parser)\n",
    "series_grouped_dates.index = series_grouped_dates.index.to_period('H')"
   ]
  },
  {
   "cell_type": "markdown",
   "id": "fifty-swedish",
   "metadata": {},
   "source": [
    "# Pandas dataframe groupby sites & list of group names"
   ]
  },
  {
   "cell_type": "code",
   "execution_count": 45,
   "id": "lucky-rachel",
   "metadata": {},
   "outputs": [],
   "source": [
    "pandas_dataframe_groupby_site = df_complete.groupby(['SITE'], as_index=False)\n",
    "sites_names = list(pandas_dataframe_groupby_site.groups.keys())"
   ]
  },
  {
   "cell_type": "code",
   "execution_count": 33,
   "id": "moral-italian",
   "metadata": {},
   "outputs": [],
   "source": [
    "# def cero_percentage(df):\n",
    "#     df_ceros = df[df['OCCUPANCY_COUNT']==0]\n",
    "#     ceros = len(df_ceros)\n",
    "#     total = len(df)\n",
    "#     print('ceros: ',ceros)\n",
    "#     print('total: ',total)\n",
    "#     print('percentage: ', ceros/total,'\\n')\n",
    "#     return ceros/total"
   ]
  },
  {
   "cell_type": "code",
   "execution_count": 34,
   "id": "liked-fortune",
   "metadata": {},
   "outputs": [],
   "source": [
    "# ceros_list = []"
   ]
  },
  {
   "cell_type": "code",
   "execution_count": 35,
   "id": "palestinian-removal",
   "metadata": {
    "scrolled": true
   },
   "outputs": [],
   "source": [
    "# for i, site_name in enumerate(sites_names):\n",
    "#     print('index: ',i)\n",
    "#     df = pandas_dataframe_groupby_site.get_group(site_name)\n",
    "#     percentage = cero_percentage(df)\n",
    "#     ceros_list.append(percentage)"
   ]
  },
  {
   "cell_type": "code",
   "execution_count": 46,
   "id": "constant-texture",
   "metadata": {},
   "outputs": [],
   "source": [
    "site = pandas_dataframe_groupby_site.get_group(sites_names[0])['OCCUPANCY_COUNT']\n",
    "site.index = series_grouped_dates.index"
   ]
  },
  {
   "cell_type": "code",
   "execution_count": 12,
   "id": "revolutionary-string",
   "metadata": {},
   "outputs": [
    {
     "name": "stdout",
     "output_type": "stream",
     "text": [
      "Stored 'df_complete' (DataFrame)\n",
      "Stored 'df_grouped_dates' (DataFrame)\n",
      "Stored 'series_grouped_dates' (Series)\n",
      "Stored 'pandas_dataframe_groupby_site' (DataFrameGroupBy)\n",
      "Stored 'sites_names' (list)\n"
     ]
    }
   ],
   "source": [
    "%store df_complete\n",
    "%store df_grouped_dates\n",
    "%store series_grouped_dates\n",
    "%store pandas_dataframe_groupby_site\n",
    "%store sites_names"
   ]
  }
 ],
 "metadata": {
  "kernelspec": {
   "display_name": "Python 3",
   "language": "python",
   "name": "python3"
  },
  "language_info": {
   "codemirror_mode": {
    "name": "ipython",
    "version": 3
   },
   "file_extension": ".py",
   "mimetype": "text/x-python",
   "name": "python",
   "nbconvert_exporter": "python",
   "pygments_lexer": "ipython3",
   "version": "3.7.9"
  }
 },
 "nbformat": 4,
 "nbformat_minor": 5
}
